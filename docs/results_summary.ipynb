{
 "cells": [
  {
   "cell_type": "code",
   "execution_count": null,
   "metadata": {
    "vscode": {
     "languageId": "plaintext"
    }
   },
   "outputs": [],
   "source": [
    "Gene outliers from PCA\n",
    "\"Gene\",\"PhastCons30_median\",\"PhyloP100_median\",\"PhyloP447_median\",\"GTEX_max\",\"Gene_Type\",\"Gene_group\", \"PC1\", \"PC2\", \"PC3\", \"PC4\"\n",
    "MT-TP, 0.0035, 0.7545, 0.0000, 13049, Pseudogene, TRNA, 0.133788272, 2.80707448, -0.222541994, -0.009840109\n",
    "TRP-AGG2-2, 0.9950, 2.8100, 7.9645, 2, Pseudogene, TRNA, -6.324758, -0.46140845, -9.669088e-02, 1.61460145\n",
    "TRP-AGG2-4, 0.9950, 2.8100, 7.9645, 2, Pseudogene, TRNA, -6.324758, -0.46140845, -9.669088e-02, 1.61460145\n",
    "TRP-AGG2-1, 1.0000, 2.8410, 7.7710, 1, Pseudogene, TRNA, -6.277775, -0.44617455, -1.111564e-01, 1.48613299\n",
    "TRP-TGG2-1, 1.0000, 2.8725, 7.3130, 2, Pseudogene, TRNA, -6.114464, -0.41160397, -1.374251e-01, 1.22048177\n",
    "TRP-CGG1-3, 1.0000, 3.2860, 6.1390, 13, Pseudogene, TRNA, -5.926085, -0.27031731, -4.900752e-01, 0.37446089\n",
    "RNU12-2P, 0.6415, 3.9920, 5.0450, 19, Pseudogene, RNU12, -5.270337, 0.03734587, -1.944924e+00, -0.04089724\n",
    "RN7SKP70, 0.9960, 2.0820, 3.4490, 948, Pseudogene, RN7SK, -4.007121, -0.08498035, 5.704127e-01, -0.47376326"
   ]
  }
 ],
 "metadata": {
  "language_info": {
   "name": "python"
  }
 },
 "nbformat": 4,
 "nbformat_minor": 2
}
