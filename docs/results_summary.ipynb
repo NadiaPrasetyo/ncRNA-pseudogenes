{
 "cells": [
  {
   "cell_type": "code",
   "execution_count": null,
   "metadata": {
    "vscode": {
     "languageId": "plaintext"
    }
   },
   "outputs": [],
   "source": [
    "Gene outliers from PCA\n",
    "\"Gene\",\"PhastCons30_median\",\"PhyloP100_median\",\"PhyloP447_median\",\"GTEX_max\",\"Gene_Type\",\"Gene_group\", \"PC1\", \"PC2\", \"PC3\", \"PC4\"\n",
    "RNU12-2P, 0.6415, 3.9920, 5.0450, 19, Pseudogene, RNU12, -5.270337, 0.03734587, -1.944924e+00, -0.04089724\n",
    "RN7SKP70, 0.9960, 2.0820, 3.4490, 948, Pseudogene, RN7SK, -4.007121, -0.08498035, 5.704127e-01, -0.47376326"
   ]
  },
  {
   "cell_type": "markdown",
   "metadata": {},
   "source": []
  }
 ],
 "metadata": {
  "language_info": {
   "name": "python"
  }
 },
 "nbformat": 4,
 "nbformat_minor": 2
}
